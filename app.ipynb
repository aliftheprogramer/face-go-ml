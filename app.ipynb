{
 "cells": [
  {
   "cell_type": "code",
   "execution_count": null,
   "id": "5e9070ef",
   "metadata": {},
   "outputs": [
    {
     "name": "stderr",
     "output_type": "stream",
     "text": [
      "[ERROR:0@610.369] global persistence.cpp:566 open Can't open file: 'haarcascade_frontalface_default.xml' in read mode\n"
     ]
    },
    {
     "name": "stdout",
     "output_type": "stream",
     "text": [
      "Kamera aktif.\n"
     ]
    },
    {
     "ename": "error",
     "evalue": "OpenCV(4.12.0) /io/opencv/modules/objdetect/src/cascadedetect.cpp:1689: error: (-215:Assertion failed) !empty() in function 'detectMultiScale'\n",
     "output_type": "error",
     "traceback": [
      "\u001b[31m---------------------------------------------------------------------------\u001b[39m",
      "\u001b[31merror\u001b[39m                                     Traceback (most recent call last)",
      "\u001b[36mCell\u001b[39m\u001b[36m \u001b[39m\u001b[32mIn[4]\u001b[39m\u001b[32m, line 34\u001b[39m\n\u001b[32m     29\u001b[39m gray = cv2.cvtColor(frame, cv2.COLOR_BGR2GRAY)\n\u001b[32m     31\u001b[39m \u001b[38;5;66;03m# Deteksi wajah di frame grayscale\u001b[39;00m\n\u001b[32m     32\u001b[39m \u001b[38;5;66;03m# scaleFactor: Seberapa banyak ukuran gambar akan dikurangi pada setiap skala gambar.\u001b[39;00m\n\u001b[32m     33\u001b[39m \u001b[38;5;66;03m# minNeighbors: Berapa banyak tetangga (neighbor) setiap kandidat persegi panjang harus dimiliki agar mempertahankannya.\u001b[39;00m\n\u001b[32m---> \u001b[39m\u001b[32m34\u001b[39m faces = \u001b[43mface_detector\u001b[49m\u001b[43m.\u001b[49m\u001b[43mdetectMultiScale\u001b[49m\u001b[43m(\u001b[49m\n\u001b[32m     35\u001b[39m \u001b[43m    \u001b[49m\u001b[43mgray\u001b[49m\u001b[43m,\u001b[49m\n\u001b[32m     36\u001b[39m \u001b[43m    \u001b[49m\u001b[43mscaleFactor\u001b[49m\u001b[43m=\u001b[49m\u001b[32;43m1.2\u001b[39;49m\u001b[43m,\u001b[49m\n\u001b[32m     37\u001b[39m \u001b[43m    \u001b[49m\u001b[43mminNeighbors\u001b[49m\u001b[43m=\u001b[49m\u001b[32;43m5\u001b[39;49m\u001b[43m,\u001b[49m\n\u001b[32m     38\u001b[39m \u001b[43m    \u001b[49m\u001b[43mminSize\u001b[49m\u001b[43m=\u001b[49m\u001b[43m(\u001b[49m\u001b[32;43m30\u001b[39;49m\u001b[43m,\u001b[49m\u001b[43m \u001b[49m\u001b[32;43m30\u001b[39;49m\u001b[43m)\u001b[49m\u001b[43m \u001b[49m\u001b[38;5;66;43;03m# Ukuran minimum objek yang dianggap wajah\u001b[39;49;00m\n\u001b[32m     39\u001b[39m \u001b[43m\u001b[49m\u001b[43m)\u001b[49m\n\u001b[32m     41\u001b[39m \u001b[38;5;66;03m# Gambar persegi panjang di sekitar wajah yang terdeteksi\u001b[39;00m\n\u001b[32m     42\u001b[39m \u001b[38;5;28;01mfor\u001b[39;00m (x, y, w, h) \u001b[38;5;129;01min\u001b[39;00m faces:\n",
      "\u001b[31merror\u001b[39m: OpenCV(4.12.0) /io/opencv/modules/objdetect/src/cascadedetect.cpp:1689: error: (-215:Assertion failed) !empty() in function 'detectMultiScale'\n"
     ]
    }
   ],
   "source": [
    "# Face Attendance: Webcam preview + basic face boxes (Haar)\n",
    "import cv2\n",
    "import os\n",
    "from datetime import datetime\n",
    "\n",
    "# Use OpenCV built-in cascade if local file not found\n",
    "LOCAL_CASCADE = 'haarcascade_frontalface_default.xml'\n",
    "if os.path.exists(LOCAL_CASCADE):\n",
    "    CASCADE_PATH = LOCAL_CASCADE\n",
    "else:\n",
    "    CASCADE_PATH = os.path.join(cv2.data.haarcascades, 'haarcascade_frontalface_default.xml')\n",
    "    if not os.path.exists(CASCADE_PATH):\n",
    "        raise FileNotFoundError('Haar cascade tidak ditemukan (lokal maupun dari OpenCV).')\n",
    "\n",
    "face_detector = cv2.CascadeClassifier(CASCADE_PATH)\n",
    "\n",
    "cam = cv2.VideoCapture(0)\n",
    "cam.set(3, 640)\n",
    "cam.set(4, 480)\n",
    "if not cam.isOpened():\n",
    "    print(\"Error: Tidak dapat membuka kamera.\")\n",
    "else:\n",
    "    print(\"Kamera aktif. Tekan 'q' untuk keluar.\")\n",
    "\n",
    "while cam.isOpened():\n",
    "    ret, frame = cam.read()\n",
    "    if not ret:\n",
    "        print(\"Gagal mengambil frame\")\n",
    "        break\n",
    "    gray = cv2.cvtColor(frame, cv2.COLOR_BGR2GRAY)\n",
    "    faces = face_detector.detectMultiScale(gray, scaleFactor=1.2, minNeighbors=5, minSize=(30, 30))\n",
    "    for (x, y, w, h) in faces:\n",
    "        cv2.rectangle(frame, (x, y), (x+w, y+h), (255, 0, 0), 2)\n",
    "        cv2.putText(frame, \"Face\", (x, y-10), cv2.FONT_HERSHEY_SIMPLEX, 0.75, (255, 0, 0), 2)\n",
    "    cv2.imshow('Face Recognition (preview)', frame)\n",
    "    k = cv2.waitKey(1) & 0xff\n",
    "    if k == 27 or k == ord('q'):\n",
    "        break\n",
    "\n",
    "print(\"\\nProgram selesai.\")\n",
    "cam.release()\n",
    "cv2.destroyAllWindows()"
   ]
  },
  {
   "cell_type": "markdown",
   "id": "0c352f33",
   "metadata": {},
   "source": [
    "# 📚 Langkah kerja ML microservice (Enroll + Recognize)\n",
    "Berikut langkah-langkah untuk membuat microservice ML untuk absensi siswa:\n",
    "- Install dependencies\n",
    "- Jalankan API (FastAPI)\n",
    "- Enroll wajah siswa (dari file atau kamera)\n",
    "- Recognize wajah secara real-time (via API atau langsung webcam)"
   ]
  },
  {
   "cell_type": "code",
   "execution_count": null,
   "id": "b5e3c2ca",
   "metadata": {},
   "outputs": [],
   "source": [
    "# 1) Install dependencies (opsional jika sudah ada)\n",
    "import sys, subprocess, os\n",
    "req = os.path.join(os.getcwd(), 'requirements.txt')\n",
    "if os.path.exists(req):\n",
    "    print('Installing requirements...')\n",
    "    subprocess.run([sys.executable, '-m', 'pip', 'install', '-r', req], check=False)\n",
    "else:\n",
    "    print('requirements.txt tidak ditemukan, lewati instalasi.')"
   ]
  },
  {
   "cell_type": "markdown",
   "id": "45b69c78",
   "metadata": {},
   "source": [
    "## Jalankan API\n",
    "API FastAPI:\n",
    "- Endpoint `POST /enroll` untuk menambahkan wajah baru (`student_id`, `image`)\n",
    "- Endpoint `POST /recognize` untuk mendeteksi wajah pada gambar\n",
    "Jalankan server di terminal terpisah:\n",
    "```bash\n",
    "uvicorn src.ml.api:app --reload\n",
    "```"
   ]
  },
  {
   "cell_type": "code",
   "execution_count": null,
   "id": "680eb142",
   "metadata": {},
   "outputs": [],
   "source": [
    "# 2) Helper untuk enroll dari folder known_faces/<label>/*.jpg\n",
    "from importlib import import_module\n",
    "bulk = import_module('src.ml.bulk_enroll')\n",
    "bulk.main()\n",
    "print('Bulk enroll selesai')"
   ]
  },
  {
   "cell_type": "code",
   "execution_count": null,
   "id": "cd18744a",
   "metadata": {},
   "outputs": [],
   "source": [
    "# 3) Enroll satu gambar (contoh) via API\n",
    "import requests, os\n",
    "api = 'http://127.0.0.1:8000'\n",
    "sample_path = None\n",
    "for root, _, files in os.walk('known_faces'):\n",
    "    for f in files:\n",
    "        if f.lower().endswith(('.jpg','.jpeg','.png')):\n",
    "            sample_path = os.path.join(root, f)\n",
    "            break\n",
    "    if sample_path: break\n",
    "if sample_path:\n",
    "    files = {'image': open(sample_path, 'rb')}\n",
    "    data = {'student_id': os.path.basename(os.path.dirname(sample_path))}\n",
    "    r = requests.post(api + '/enroll', files=files, data=data, timeout=30)\n",
    "    print('Response:', r.status_code, r.text)\n",
    "else:\n",
    "    print('Tidak ditemukan contoh gambar di known_faces/')"
   ]
  },
  {
   "cell_type": "code",
   "execution_count": null,
   "id": "f61ff1fa",
   "metadata": {},
   "outputs": [],
   "source": [
    "# 4) Recognize dari satu gambar (contoh) via API\n",
    "import requests, os\n",
    "api = 'http://127.0.0.1:8000'\n",
    "test_path = sample_path\n",
    "if test_path and os.path.exists(test_path):\n",
    "    files = {'image': open(test_path, 'rb')}\n",
    "    r = requests.post(api + '/recognize', files=files, timeout=30)\n",
    "    print('Response:', r.status_code, r.text)\n",
    "else:\n",
    "    print('Tidak ada sample untuk test recognize')"
   ]
  },
  {
   "cell_type": "markdown",
   "id": "f147f694",
   "metadata": {},
   "source": [
    "## Real-time attendance (opsi)\n",
    "Gunakan demo webcam langsung (tanpa API) untuk uji cepat:\n",
    "```bash\n",
    "python -m src.ml.cam_demo\n",
    "```\n",
    "Atau integrasikan dengan aplikasi client (web/desktop) yang\n",
    "stream frame -> panggil endpoint `/recognize` setiap interval (mis. 1-2 fps) untuk mencatat absensi."
   ]
  }
 ],
 "metadata": {
  "kernelspec": {
   "display_name": "venv",
   "language": "python",
   "name": "python3"
  },
  "language_info": {
   "codemirror_mode": {
    "name": "ipython",
    "version": 3
   },
   "file_extension": ".py",
   "mimetype": "text/x-python",
   "name": "python",
   "nbconvert_exporter": "python",
   "pygments_lexer": "ipython3",
   "version": "3.12.3"
  }
 },
 "nbformat": 4,
 "nbformat_minor": 5
}
