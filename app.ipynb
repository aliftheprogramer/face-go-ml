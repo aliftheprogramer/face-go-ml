{
 "cells": [
  {
   "cell_type": "code",
   "execution_count": 20,
   "id": "5e9070ef",
   "metadata": {},
   "outputs": [
    {
     "name": "stdout",
     "output_type": "stream",
     "text": [
      "Error: Tidak dapat membuka kamera.\n",
      "\n",
      "Program selesai.\n"
     ]
    },
    {
     "name": "stderr",
     "output_type": "stream",
     "text": [
      "[ WARN:0@413.416] global cap_v4l.cpp:914 open VIDEOIO(V4L2:/dev/video0): can't open camera by index\n",
      "[ERROR:0@413.416] global obsensor_uvc_stream_channel.cpp:163 getStreamChannelGroup Camera index out of range\n"
     ]
    }
   ],
   "source": [
    "# Face Attendance: Webcam preview + basic face boxes (Haar)\n",
    "import cv2\n",
    "import os\n",
    "from datetime import datetime\n",
    "\n",
    "# Use OpenCV built-in cascade if local file not found\n",
    "LOCAL_CASCADE = 'haarcascade_frontalface_default.xml'\n",
    "if os.path.exists(LOCAL_CASCADE):\n",
    "    CASCADE_PATH = LOCAL_CASCADE\n",
    "else:\n",
    "    CASCADE_PATH = os.path.join(cv2.data.haarcascades, 'haarcascade_frontalface_default.xml')\n",
    "    if not os.path.exists(CASCADE_PATH):\n",
    "        raise FileNotFoundError('Haar cascade tidak ditemukan (lokal maupun dari OpenCV).')\n",
    "\n",
    "face_detector = cv2.CascadeClassifier(CASCADE_PATH)\n",
    "\n",
    "cam = cv2.VideoCapture(0)\n",
    "cam.set(3, 640)\n",
    "cam.set(4, 480)\n",
    "if not cam.isOpened():\n",
    "    print(\"Error: Tidak dapat membuka kamera.\")\n",
    "else:\n",
    "    print(\"Kamera aktif. Tekan 'q' untuk keluar.\")\n",
    "\n",
    "while cam.isOpened():\n",
    "    ret, frame = cam.read()\n",
    "    if not ret:\n",
    "        print(\"Gagal mengambil frame\")\n",
    "        break\n",
    "    gray = cv2.cvtColor(frame, cv2.COLOR_BGR2GRAY)\n",
    "    faces = face_detector.detectMultiScale(gray, scaleFactor=1.2, minNeighbors=5, minSize=(30, 30))\n",
    "    for (x, y, w, h) in faces:\n",
    "        cv2.rectangle(frame, (x, y), (x+w, y+h), (255, 0, 0), 2)\n",
    "        cv2.putText(frame, \"Face\", (x, y-10), cv2.FONT_HERSHEY_SIMPLEX, 0.75, (255, 0, 0), 2)\n",
    "    cv2.imshow('Face Recognition (preview)', frame)\n",
    "    k = cv2.waitKey(1) & 0xff\n",
    "    if k == 27 or k == ord('q'):\n",
    "        break\n",
    "\n",
    "print(\"\\nProgram selesai.\")\n",
    "cam.release()\n",
    "cv2.destroyAllWindows()"
   ]
  },
  {
   "cell_type": "markdown",
   "id": "0c352f33",
   "metadata": {},
   "source": [
    "# 📚 Langkah kerja ML microservice (Enroll + Recognize)\n",
    "Berikut langkah-langkah untuk membuat microservice ML untuk absensi siswa:\n",
    "- Install dependencies\n",
    "- Jalankan API (FastAPI)\n",
    "- Enroll wajah siswa (dari file atau kamera)\n",
    "- Recognize wajah secara real-time (via API atau langsung webcam)"
   ]
  },
  {
   "cell_type": "code",
   "execution_count": 2,
   "id": "b5e3c2ca",
   "metadata": {},
   "outputs": [
    {
     "name": "stdout",
     "output_type": "stream",
     "text": [
      "Installing requirements...\n",
      "Requirement already satisfied: opencv-python in ./venv/lib/python3.12/site-packages (from -r /home/alif/Desktop/my-project/face-regonation-python/requirements.txt (line 1)) (4.12.0.88)\n",
      "Requirement already satisfied: face_recognition in ./venv/lib/python3.12/site-packages (from -r /home/alif/Desktop/my-project/face-regonation-python/requirements.txt (line 2)) (1.3.0)\n",
      "Requirement already satisfied: numpy in ./venv/lib/python3.12/site-packages (from -r /home/alif/Desktop/my-project/face-regonation-python/requirements.txt (line 3)) (2.2.6)\n",
      "Requirement already satisfied: fastapi in ./venv/lib/python3.12/site-packages (from -r /home/alif/Desktop/my-project/face-regonation-python/requirements.txt (line 4)) (0.117.1)\n",
      "Requirement already satisfied: uvicorn in ./venv/lib/python3.12/site-packages (from -r /home/alif/Desktop/my-project/face-regonation-python/requirements.txt (line 5)) (0.37.0)\n",
      "Requirement already satisfied: pydantic in ./venv/lib/python3.12/site-packages (from -r /home/alif/Desktop/my-project/face-regonation-python/requirements.txt (line 6)) (2.11.9)\n",
      "Requirement already satisfied: python-multipart in ./venv/lib/python3.12/site-packages (from -r /home/alif/Desktop/my-project/face-regonation-python/requirements.txt (line 7)) (0.0.20)\n",
      "Requirement already satisfied: requests in ./venv/lib/python3.12/site-packages (from -r /home/alif/Desktop/my-project/face-regonation-python/requirements.txt (line 8)) (2.32.5)\n",
      "Requirement already satisfied: face-recognition-models>=0.3.0 in ./venv/lib/python3.12/site-packages (from face_recognition->-r /home/alif/Desktop/my-project/face-regonation-python/requirements.txt (line 2)) (0.3.0)\n",
      "Requirement already satisfied: Click>=6.0 in ./venv/lib/python3.12/site-packages (from face_recognition->-r /home/alif/Desktop/my-project/face-regonation-python/requirements.txt (line 2)) (8.3.0)\n",
      "Requirement already satisfied: dlib>=19.7 in ./venv/lib/python3.12/site-packages (from face_recognition->-r /home/alif/Desktop/my-project/face-regonation-python/requirements.txt (line 2)) (20.0.0)\n",
      "Requirement already satisfied: Pillow in ./venv/lib/python3.12/site-packages (from face_recognition->-r /home/alif/Desktop/my-project/face-regonation-python/requirements.txt (line 2)) (11.3.0)\n",
      "Requirement already satisfied: starlette<0.49.0,>=0.40.0 in ./venv/lib/python3.12/site-packages (from fastapi->-r /home/alif/Desktop/my-project/face-regonation-python/requirements.txt (line 4)) (0.48.0)\n",
      "Requirement already satisfied: typing-extensions>=4.8.0 in ./venv/lib/python3.12/site-packages (from fastapi->-r /home/alif/Desktop/my-project/face-regonation-python/requirements.txt (line 4)) (4.15.0)\n",
      "Requirement already satisfied: annotated-types>=0.6.0 in ./venv/lib/python3.12/site-packages (from pydantic->-r /home/alif/Desktop/my-project/face-regonation-python/requirements.txt (line 6)) (0.7.0)\n",
      "Requirement already satisfied: pydantic-core==2.33.2 in ./venv/lib/python3.12/site-packages (from pydantic->-r /home/alif/Desktop/my-project/face-regonation-python/requirements.txt (line 6)) (2.33.2)\n",
      "Requirement already satisfied: typing-inspection>=0.4.0 in ./venv/lib/python3.12/site-packages (from pydantic->-r /home/alif/Desktop/my-project/face-regonation-python/requirements.txt (line 6)) (0.4.1)\n",
      "Requirement already satisfied: anyio<5,>=3.6.2 in ./venv/lib/python3.12/site-packages (from starlette<0.49.0,>=0.40.0->fastapi->-r /home/alif/Desktop/my-project/face-regonation-python/requirements.txt (line 4)) (4.11.0)\n",
      "Requirement already satisfied: idna>=2.8 in ./venv/lib/python3.12/site-packages (from anyio<5,>=3.6.2->starlette<0.49.0,>=0.40.0->fastapi->-r /home/alif/Desktop/my-project/face-regonation-python/requirements.txt (line 4)) (3.10)\n",
      "Requirement already satisfied: sniffio>=1.1 in ./venv/lib/python3.12/site-packages (from anyio<5,>=3.6.2->starlette<0.49.0,>=0.40.0->fastapi->-r /home/alif/Desktop/my-project/face-regonation-python/requirements.txt (line 4)) (1.3.1)\n",
      "Requirement already satisfied: h11>=0.8 in ./venv/lib/python3.12/site-packages (from uvicorn->-r /home/alif/Desktop/my-project/face-regonation-python/requirements.txt (line 5)) (0.16.0)\n",
      "Requirement already satisfied: charset_normalizer<4,>=2 in ./venv/lib/python3.12/site-packages (from requests->-r /home/alif/Desktop/my-project/face-regonation-python/requirements.txt (line 8)) (3.4.3)\n",
      "Requirement already satisfied: urllib3<3,>=1.21.1 in ./venv/lib/python3.12/site-packages (from requests->-r /home/alif/Desktop/my-project/face-regonation-python/requirements.txt (line 8)) (2.5.0)\n",
      "Requirement already satisfied: certifi>=2017.4.17 in ./venv/lib/python3.12/site-packages (from requests->-r /home/alif/Desktop/my-project/face-regonation-python/requirements.txt (line 8)) (2025.8.3)\n",
      "Requirement already satisfied: opencv-python in ./venv/lib/python3.12/site-packages (from -r /home/alif/Desktop/my-project/face-regonation-python/requirements.txt (line 1)) (4.12.0.88)\n",
      "Requirement already satisfied: face_recognition in ./venv/lib/python3.12/site-packages (from -r /home/alif/Desktop/my-project/face-regonation-python/requirements.txt (line 2)) (1.3.0)\n",
      "Requirement already satisfied: numpy in ./venv/lib/python3.12/site-packages (from -r /home/alif/Desktop/my-project/face-regonation-python/requirements.txt (line 3)) (2.2.6)\n",
      "Requirement already satisfied: fastapi in ./venv/lib/python3.12/site-packages (from -r /home/alif/Desktop/my-project/face-regonation-python/requirements.txt (line 4)) (0.117.1)\n",
      "Requirement already satisfied: uvicorn in ./venv/lib/python3.12/site-packages (from -r /home/alif/Desktop/my-project/face-regonation-python/requirements.txt (line 5)) (0.37.0)\n",
      "Requirement already satisfied: pydantic in ./venv/lib/python3.12/site-packages (from -r /home/alif/Desktop/my-project/face-regonation-python/requirements.txt (line 6)) (2.11.9)\n",
      "Requirement already satisfied: python-multipart in ./venv/lib/python3.12/site-packages (from -r /home/alif/Desktop/my-project/face-regonation-python/requirements.txt (line 7)) (0.0.20)\n",
      "Requirement already satisfied: requests in ./venv/lib/python3.12/site-packages (from -r /home/alif/Desktop/my-project/face-regonation-python/requirements.txt (line 8)) (2.32.5)\n",
      "Requirement already satisfied: face-recognition-models>=0.3.0 in ./venv/lib/python3.12/site-packages (from face_recognition->-r /home/alif/Desktop/my-project/face-regonation-python/requirements.txt (line 2)) (0.3.0)\n",
      "Requirement already satisfied: Click>=6.0 in ./venv/lib/python3.12/site-packages (from face_recognition->-r /home/alif/Desktop/my-project/face-regonation-python/requirements.txt (line 2)) (8.3.0)\n",
      "Requirement already satisfied: dlib>=19.7 in ./venv/lib/python3.12/site-packages (from face_recognition->-r /home/alif/Desktop/my-project/face-regonation-python/requirements.txt (line 2)) (20.0.0)\n",
      "Requirement already satisfied: Pillow in ./venv/lib/python3.12/site-packages (from face_recognition->-r /home/alif/Desktop/my-project/face-regonation-python/requirements.txt (line 2)) (11.3.0)\n",
      "Requirement already satisfied: starlette<0.49.0,>=0.40.0 in ./venv/lib/python3.12/site-packages (from fastapi->-r /home/alif/Desktop/my-project/face-regonation-python/requirements.txt (line 4)) (0.48.0)\n",
      "Requirement already satisfied: typing-extensions>=4.8.0 in ./venv/lib/python3.12/site-packages (from fastapi->-r /home/alif/Desktop/my-project/face-regonation-python/requirements.txt (line 4)) (4.15.0)\n",
      "Requirement already satisfied: annotated-types>=0.6.0 in ./venv/lib/python3.12/site-packages (from pydantic->-r /home/alif/Desktop/my-project/face-regonation-python/requirements.txt (line 6)) (0.7.0)\n",
      "Requirement already satisfied: pydantic-core==2.33.2 in ./venv/lib/python3.12/site-packages (from pydantic->-r /home/alif/Desktop/my-project/face-regonation-python/requirements.txt (line 6)) (2.33.2)\n",
      "Requirement already satisfied: typing-inspection>=0.4.0 in ./venv/lib/python3.12/site-packages (from pydantic->-r /home/alif/Desktop/my-project/face-regonation-python/requirements.txt (line 6)) (0.4.1)\n",
      "Requirement already satisfied: anyio<5,>=3.6.2 in ./venv/lib/python3.12/site-packages (from starlette<0.49.0,>=0.40.0->fastapi->-r /home/alif/Desktop/my-project/face-regonation-python/requirements.txt (line 4)) (4.11.0)\n",
      "Requirement already satisfied: idna>=2.8 in ./venv/lib/python3.12/site-packages (from anyio<5,>=3.6.2->starlette<0.49.0,>=0.40.0->fastapi->-r /home/alif/Desktop/my-project/face-regonation-python/requirements.txt (line 4)) (3.10)\n",
      "Requirement already satisfied: sniffio>=1.1 in ./venv/lib/python3.12/site-packages (from anyio<5,>=3.6.2->starlette<0.49.0,>=0.40.0->fastapi->-r /home/alif/Desktop/my-project/face-regonation-python/requirements.txt (line 4)) (1.3.1)\n",
      "Requirement already satisfied: h11>=0.8 in ./venv/lib/python3.12/site-packages (from uvicorn->-r /home/alif/Desktop/my-project/face-regonation-python/requirements.txt (line 5)) (0.16.0)\n",
      "Requirement already satisfied: charset_normalizer<4,>=2 in ./venv/lib/python3.12/site-packages (from requests->-r /home/alif/Desktop/my-project/face-regonation-python/requirements.txt (line 8)) (3.4.3)\n",
      "Requirement already satisfied: urllib3<3,>=1.21.1 in ./venv/lib/python3.12/site-packages (from requests->-r /home/alif/Desktop/my-project/face-regonation-python/requirements.txt (line 8)) (2.5.0)\n",
      "Requirement already satisfied: certifi>=2017.4.17 in ./venv/lib/python3.12/site-packages (from requests->-r /home/alif/Desktop/my-project/face-regonation-python/requirements.txt (line 8)) (2025.8.3)\n"
     ]
    }
   ],
   "source": [
    "# 1) Install dependencies (opsional jika sudah ada)\n",
    "import sys, subprocess, os\n",
    "req = os.path.join(os.getcwd(), 'requirements.txt')\n",
    "if os.path.exists(req):\n",
    "    print('Installing requirements...')\n",
    "    subprocess.run([sys.executable, '-m', 'pip', 'install', '-r', req], check=False)\n",
    "else:\n",
    "    print('requirements.txt tidak ditemukan, lewati instalasi.')"
   ]
  },
  {
   "cell_type": "markdown",
   "id": "45b69c78",
   "metadata": {},
   "source": [
    "## Jalankan API\n",
    "API FastAPI:\n",
    "- Endpoint `POST /enroll` untuk menambahkan wajah baru (`student_id`, `image`)\n",
    "- Endpoint `POST /recognize` untuk mendeteksi wajah pada gambar\n",
    "Jalankan server di terminal terpisah:\n",
    "```bash\n",
    "uvicorn src.ml.api:app --reload\n",
    "```"
   ]
  },
  {
   "cell_type": "code",
   "execution_count": 12,
   "id": "680eb142",
   "metadata": {},
   "outputs": [
    {
     "name": "stdout",
     "output_type": "stream",
     "text": [
      "alip: DSC_0001.JPG -> Tidak ada wajah terdeteksi\n",
      "alip: HORIZON_0001_BURST20221126002959947_COVER.JPG -> Tidak ada wajah terdeteksi\n",
      "alip: HORIZON_0001_BURST20221126002959947_COVER.JPG -> Tidak ada wajah terdeteksi\n",
      "alip: DSC_0002.JPG -> Tidak ada wajah terdeteksi\n",
      "alip: DSC_0002.JPG -> Tidak ada wajah terdeteksi\n",
      "alip: DSC_0012.JPG -> Tersimpan 1 wajah untuk alip\n",
      "alip: DSC_0012.JPG -> Tersimpan 1 wajah untuk alip\n",
      "alip: DSC_0011.JPG -> Tersimpan 1 wajah untuk alip\n",
      "alip: DSC_0011.JPG -> Tersimpan 1 wajah untuk alip\n",
      "alip: DSC_0014.JPG -> Tersimpan 1 wajah untuk alip\n",
      "alip: DSC_0014.JPG -> Tersimpan 1 wajah untuk alip\n",
      "alip: IMG_20230927_203408.jpg -> Tidak ada wajah terdeteksi\n",
      "alip: IMG_20230927_203408.jpg -> Tidak ada wajah terdeteksi\n",
      "alip: IMG-20230901-WA0018.jpg -> Tersimpan 1 wajah untuk alip\n",
      "alip: IMG-20230901-WA0018.jpg -> Tersimpan 1 wajah untuk alip\n",
      "alip: IMG_20231016_231926.jpg -> Tersimpan 1 wajah untuk alip\n",
      "alip: IMG_20231016_231926.jpg -> Tersimpan 1 wajah untuk alip\n",
      "yoga: b4079203-9128-4b3b-af3b-8b79b70202c3.jpeg -> Tersimpan 1 wajah untuk yoga\n",
      "yoga: b4079203-9128-4b3b-af3b-8b79b70202c3.jpeg -> Tersimpan 1 wajah untuk yoga\n",
      "yoga: WhatsApp Image 2025-09-28 at 19.52.52.jpeg -> Tersimpan 1 wajah untuk yoga\n",
      "yoga: WhatsApp Image 2025-09-28 at 19.52.52.jpeg -> Tersimpan 1 wajah untuk yoga\n",
      "yoga: WhatsApp Image 2025-09-28 at 19.53.11.jpeg -> Tersimpan 1 wajah untuk yoga\n",
      "yoga: WhatsApp Image 2025-09-28 at 19.53.11.jpeg -> Tersimpan 1 wajah untuk yoga\n",
      "yoga: WhatsApp Image 2025-09-28 at 19.50.39.jpeg -> Tersimpan 1 wajah untuk yoga\n",
      "yoga: WhatsApp Image 2025-09-28 at 19.50.39.jpeg -> Tersimpan 1 wajah untuk yoga\n",
      "yoga: WhatsApp Image 2025-09-28 at 19.52.52 (1).jpeg -> Tersimpan 1 wajah untuk yoga\n",
      "yoga: WhatsApp Image 2025-09-28 at 19.52.52 (1).jpeg -> Tersimpan 1 wajah untuk yoga\n",
      "yoga: WhatsApp Image 2025-09-28 at 19.48.00.jpeg -> Tersimpan 1 wajah untuk yoga\n",
      "Selesai. Total wajah tersimpan: 11\n",
      "Bulk enroll selesai\n",
      "yoga: WhatsApp Image 2025-09-28 at 19.48.00.jpeg -> Tersimpan 1 wajah untuk yoga\n",
      "Selesai. Total wajah tersimpan: 11\n",
      "Bulk enroll selesai\n"
     ]
    }
   ],
   "source": [
    "# 2) Helper untuk enroll dari folder known_faces/<label>/*.jpg\n",
    "from importlib import import_module\n",
    "bulk = import_module('src.ml.bulk_enroll')\n",
    "bulk.main()\n",
    "print('Bulk enroll selesai')"
   ]
  },
  {
   "cell_type": "code",
   "execution_count": 14,
   "id": "cd18744a",
   "metadata": {},
   "outputs": [
    {
     "name": "stdout",
     "output_type": "stream",
     "text": [
      "Response: 200 {\"ok\":false,\"saved\":0,\"msg\":\"Tidak ada wajah terdeteksi\"}\n"
     ]
    }
   ],
   "source": [
    "# Pastikan server FastAPI sudah berjalan sebelum menjalankan kode ini!\n",
    "# Jalankan di terminal:\n",
    "# uvicorn src.ml.api:app --reload\n",
    "\n",
    "# 3) Enroll satu gambar (contoh) via API\n",
    "import requests, os\n",
    "api = 'http://127.0.0.1:8000'\n",
    "sample_path = None\n",
    "for root, _, files in os.walk('known_faces'):\n",
    "    for f in files:\n",
    "        if f.lower().endswith(('.jpg','.jpeg','.png')):\n",
    "            sample_path = os.path.join(root, f)\n",
    "            break\n",
    "    if sample_path: break\n",
    "if sample_path:\n",
    "    files = {'image': open(sample_path, 'rb')}\n",
    "    data = {'student_id': os.path.basename(os.path.dirname(sample_path))}\n",
    "    try:\n",
    "        r = requests.post(api + '/enroll', files=files, data=data, timeout=30)\n",
    "        print('Response:', r.status_code, r.text)\n",
    "    except requests.ConnectionError as e:\n",
    "        print(\"Gagal terhubung ke API. Pastikan server FastAPI sudah berjalan.\")\n",
    "        print(e)\n",
    "else:\n",
    "    print('Tidak ditemukan contoh gambar di known_faces/')"
   ]
  },
  {
   "cell_type": "code",
   "execution_count": 17,
   "id": "f61ff1fa",
   "metadata": {},
   "outputs": [
    {
     "name": "stdout",
     "output_type": "stream",
     "text": [
      "Response: 200 {\"ok\":true,\"results\":[]}\n"
     ]
    }
   ],
   "source": [
    "# 4) Recognize dari satu gambar (contoh) via API\n",
    "import requests, os\n",
    "api = 'http://127.0.0.1:8000'\n",
    "test_path = sample_path\n",
    "if test_path and os.path.exists(test_path):\n",
    "    files = {'image': open(test_path, 'rb')}\n",
    "    try:\n",
    "        r = requests.post(api + '/recognize', files=files, timeout=30)\n",
    "        print('Response:', r.status_code, r.text)\n",
    "    except requests.ConnectionError as e:\n",
    "        print(\"Gagal terhubung ke API. Pastikan server FastAPI sudah berjalan di http://127.0.0.1:8000\")\n",
    "        print(e)\n",
    "else:\n",
    "    print('Tidak ada sample untuk test recognize')"
   ]
  },
  {
   "cell_type": "markdown",
   "id": "f147f694",
   "metadata": {},
   "source": [
    "## Real-time attendance (opsi)\n",
    "Gunakan demo webcam langsung (tanpa API) untuk uji cepat:\n",
    "```bash\n",
    "python -m src.ml.cam_demo\n",
    "```\n",
    "Atau integrasikan dengan aplikasi client (web/desktop) yang\n",
    "stream frame -> panggil endpoint `/recognize` setiap interval (mis. 1-2 fps) untuk mencatat absensi."
   ]
  }
 ],
 "metadata": {
  "kernelspec": {
   "display_name": "venv",
   "language": "python",
   "name": "python3"
  },
  "language_info": {
   "codemirror_mode": {
    "name": "ipython",
    "version": 3
   },
   "file_extension": ".py",
   "mimetype": "text/x-python",
   "name": "python",
   "nbconvert_exporter": "python",
   "pygments_lexer": "ipython3",
   "version": "3.12.3"
  }
 },
 "nbformat": 4,
 "nbformat_minor": 5
}
